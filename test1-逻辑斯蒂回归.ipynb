{
 "cells": [
  {
   "cell_type": "code",
   "execution_count": 11,
   "metadata": {},
   "outputs": [],
   "source": [
    "import numpy as np\n",
    "import tensorflow as tf\n",
    "import matplotlib.pyplot as plt\n",
    "from tensorflow.examples.tutorials.mnist import input_data"
   ]
  },
  {
   "cell_type": "code",
   "execution_count": 29,
   "metadata": {},
   "outputs": [
    {
     "name": "stdout",
     "output_type": "stream",
     "text": [
      "Extracting data\\train-images-idx3-ubyte.gz\n",
      "Extracting data\\train-labels-idx1-ubyte.gz\n",
      "Extracting data\\t10k-images-idx3-ubyte.gz\n",
      "Extracting data\\t10k-labels-idx1-ubyte.gz\n",
      "MINIST loaded\n"
     ]
    }
   ],
   "source": [
    "minist  = input_data.read_data_sets('data',one_hot=True)\n",
    "training = minist.train.images\n",
    "trainlabel = minist.train.labels\n",
    "testing = minist.test.images\n",
    "testlabel = minist.test.labels\n",
    "print(\"MINIST loaded\")"
   ]
  },
  {
   "cell_type": "code",
   "execution_count": 30,
   "metadata": {},
   "outputs": [
    {
     "name": "stdout",
     "output_type": "stream",
     "text": [
      "(55000, 784)\n",
      "(55000, 10)\n",
      "(10000, 784)\n",
      "(10000, 10)\n",
      "[ 0.  0.  0.  0.  0.  0.  0.  1.  0.  0.]\n"
     ]
    }
   ],
   "source": [
    "print(training.shape)\n",
    "print(trainlabe1.shape)\n",
    "print(testing.shape)\n",
    "print(testlabel.shape)\n",
    "print(trainlabe1[0])"
   ]
  },
  {
   "cell_type": "code",
   "execution_count": 42,
   "metadata": {},
   "outputs": [],
   "source": [
    "x = tf.placeholder(\"float\",[None,784])\n",
    "y = tf.placeholder(\"float\",[None,10])\n",
    "W = tf.Variable(tf.zeros([784,10]))\n",
    "b = tf.Variable(tf.zeros([10]))\n",
    "\n",
    "actv = tf.nn.softmax(tf.matmul(x,W) + b)\n",
    "cost = tf.reduce_mean(-tf.reduce_sum(y*tf.log(actv),reduction_indices = 1))\n",
    "learning_rate = 0.01\n",
    "optm = tf.train.GradientDescentOptimizer(learning_rate).minimize(cost)\n"
   ]
  },
  {
   "cell_type": "code",
   "execution_count": 44,
   "metadata": {},
   "outputs": [],
   "source": [
    "preb = tf.equal(tf.argmax(actv,1),tf.argmax(y,1))\n",
    "accr = tf.reduce_mean(tf.cast(preb,\"float\"))\n",
    "init = tf.global_variables_initializer()"
   ]
  },
  {
   "cell_type": "code",
   "execution_count": 45,
   "metadata": {},
   "outputs": [
    {
     "data": {
      "text/plain": [
       "2"
      ]
     },
     "execution_count": 45,
     "metadata": {},
     "output_type": "execute_result"
    }
   ],
   "source": [
    "sess = tf.InteractiveSession()\n",
    "arr = np.array([[31,23,4,6,8,9],\n",
    "               [18,3,25,2,6,35],\n",
    "               [15,12,11,33,2,5],\n",
    "               [44,5,4,7,8,9],\n",
    "               [14,4,55,88,7,6],\n",
    "               [44,55,22,11,3,6]\n",
    "               ])\n",
    "tf.rank(arr).eval()"
   ]
  },
  {
   "cell_type": "code",
   "execution_count": 57,
   "metadata": {},
   "outputs": [
    {
     "name": "stdout",
     "output_type": "stream",
     "text": [
      "Epoch:000/050 cost:1.176394777 train_acc: 0.850 test_acc: 0.856\n",
      "Epoch:005/050 cost:0.440917164 train_acc: 0.920 test_acc: 0.895\n",
      "Epoch:010/050 cost:0.383297595 train_acc: 0.950 test_acc: 0.905\n",
      "Epoch:015/050 cost:0.357267778 train_acc: 0.940 test_acc: 0.909\n",
      "Epoch:020/050 cost:0.341492718 train_acc: 0.920 test_acc: 0.913\n",
      "Epoch:025/050 cost:0.330545788 train_acc: 0.900 test_acc: 0.914\n",
      "Epoch:030/050 cost:0.322406260 train_acc: 0.920 test_acc: 0.916\n",
      "Epoch:035/050 cost:0.315937273 train_acc: 0.920 test_acc: 0.916\n",
      "Epoch:040/050 cost:0.310727368 train_acc: 0.950 test_acc: 0.918\n",
      "Epoch:045/050 cost:0.306328472 train_acc: 0.950 test_acc: 0.918\n",
      "DONE\n"
     ]
    }
   ],
   "source": [
    "training_epochs = 50\n",
    "batch_size = 100\n",
    "display_step = 5\n",
    "sess = tf.Session()\n",
    "sess.run(init)\n",
    "for epoch in range(training_epochs):\n",
    "    avg_cost = 0\n",
    "    num_batch = int(minist.train.num_examples/batch_size)\n",
    "    for i in range(num_batch):\n",
    "        batch_xs,batch_ys = minist.train.next_batch(batch_size)\n",
    "        sess.run(optm,feed_dict={x:batch_xs,y:batch_ys})\n",
    "        feeds = {x:batch_xs,y:batch_ys}\n",
    "        avg_cost += sess.run(cost,feed_dict=feeds)/num_batch\n",
    "    if epoch % display_step == 0:\n",
    "        feeds_train = {x:batch_xs,y:batch_ys}\n",
    "        feeds_test = {x:minist.test.images,y:minist.test.labels}\n",
    "        train_acc = sess.run(accr,feed_dict=feeds_train)\n",
    "        test_acc = sess.run(accr, feed_dict = feeds_test)\n",
    "        print(\"Epoch:%03d/%03d cost:%.9f train_acc: %.3f test_acc: %.3f\"\n",
    "              % (epoch,training_epochs,avg_cost,train_acc,test_acc)\n",
    "             )\n",
    "print(\"DONE\")\n",
    "        "
   ]
  }
 ],
 "metadata": {
  "kernelspec": {
   "display_name": "Python 3",
   "language": "python",
   "name": "python3"
  },
  "language_info": {
   "codemirror_mode": {
    "name": "ipython",
    "version": 3
   },
   "file_extension": ".py",
   "mimetype": "text/x-python",
   "name": "python",
   "nbconvert_exporter": "python",
   "pygments_lexer": "ipython3",
   "version": "3.5.4"
  }
 },
 "nbformat": 4,
 "nbformat_minor": 2
}
